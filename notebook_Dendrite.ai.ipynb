{
 "cells": [
  {
   "cell_type": "code",
   "execution_count": 29,
   "id": "29d34c1f",
   "metadata": {},
   "outputs": [],
   "source": [
    "#Importing The Libraries\n",
    "import numpy as np\n",
    "import pandas as pd\n",
    "import json\n",
    "from sklearn.metrics import mean_squared_error,mean_absolute_error"
   ]
  },
  {
   "cell_type": "code",
   "execution_count": 119,
   "id": "d1cc08a1",
   "metadata": {},
   "outputs": [],
   "source": [
    "#read json file\n",
    "data_UI = pd.read_json(\"algoparams_from_ui.json\")"
   ]
  },
  {
   "cell_type": "code",
   "execution_count": 127,
   "id": "50f74a79",
   "metadata": {},
   "outputs": [],
   "source": [
    "Target = data_UI['design_state_data']['target']\n",
    "Models = data_UI['design_state_data']['algorithms']"
   ]
  },
  {
   "cell_type": "code",
   "execution_count": 125,
   "id": "9ddb9bd4",
   "metadata": {},
   "outputs": [
    {
     "ename": "NameError",
     "evalue": "name 'Target' is not defined",
     "output_type": "error",
     "traceback": [
      "\u001b[1;31m---------------------------------------------------------------------------\u001b[0m",
      "\u001b[1;31mNameError\u001b[0m                                 Traceback (most recent call last)",
      "\u001b[1;32m~\\AppData\\Local\\Temp/ipykernel_3576/3208408546.py\u001b[0m in \u001b[0;36m<module>\u001b[1;34m\u001b[0m\n\u001b[1;32m----> 1\u001b[1;33m \u001b[0mTarget\u001b[0m\u001b[1;33m\u001b[0m\u001b[1;33m\u001b[0m\u001b[0m\n\u001b[0m",
      "\u001b[1;31mNameError\u001b[0m: name 'Target' is not defined"
     ]
    }
   ],
   "source": [
    "Target"
   ]
  },
  {
   "cell_type": "code",
   "execution_count": 126,
   "id": "d4f28e5b",
   "metadata": {},
   "outputs": [
    {
     "data": {
      "text/plain": [
       "{'RandomForestClassifier': {'model_name': 'Random Forest Classifier',\n",
       "  'is_selected': False,\n",
       "  'min_trees': 10,\n",
       "  'max_trees': 30,\n",
       "  'feature_sampling_statergy': 'Default',\n",
       "  'min_depth': 20,\n",
       "  'max_depth': 30,\n",
       "  'min_samples_per_leaf_min_value': 5,\n",
       "  'min_samples_per_leaf_max_value': 50,\n",
       "  'parallelism': 0},\n",
       " 'RandomForestRegressor': {'model_name': 'Random Forest Regressor',\n",
       "  'is_selected': True,\n",
       "  'min_trees': 10,\n",
       "  'max_trees': 20,\n",
       "  'feature_sampling_statergy': 'Default',\n",
       "  'min_depth': 20,\n",
       "  'max_depth': 25,\n",
       "  'min_samples_per_leaf_min_value': 5,\n",
       "  'min_samples_per_leaf_max_value': 10,\n",
       "  'parallelism': 0},\n",
       " 'GBTClassifier': {'model_name': 'Gradient Boosted Trees',\n",
       "  'is_selected': False,\n",
       "  'num_of_BoostingStages': [67, 89],\n",
       "  'feature_sampling_statergy': 'Fixed number',\n",
       "  'learningRate': [],\n",
       "  'use_deviance': True,\n",
       "  'use_exponential': False,\n",
       "  'fixed_number': 22,\n",
       "  'min_subsample': 1,\n",
       "  'max_subsample': 2,\n",
       "  'min_stepsize': 0.1,\n",
       "  'max_stepsize': 0.5,\n",
       "  'min_iter': 20,\n",
       "  'max_iter': 40,\n",
       "  'min_depth': 5,\n",
       "  'max_depth': 7},\n",
       " 'GBTRegressor': {'model_name': 'Gradient Boosted Trees',\n",
       "  'is_selected': False,\n",
       "  'num_of_BoostingStages': [67, 89],\n",
       "  'feature_sampling_statergy': 'Fixed number',\n",
       "  'use_deviance': True,\n",
       "  'use_exponential': False,\n",
       "  'fixed_number': 22,\n",
       "  'min_subsample': 1,\n",
       "  'max_subsample': 2,\n",
       "  'min_stepsize': 0.1,\n",
       "  'max_stepsize': 0.5,\n",
       "  'min_iter': 20,\n",
       "  'max_iter': 40,\n",
       "  'min_depth': 5,\n",
       "  'max_depth': 7},\n",
       " 'LinearRegression': {'model_name': 'LinearRegression',\n",
       "  'is_selected': False,\n",
       "  'parallelism': 2,\n",
       "  'min_iter': 30,\n",
       "  'max_iter': 50,\n",
       "  'min_regparam': 0.5,\n",
       "  'max_regparam': 0.8,\n",
       "  'min_elasticnet': 0.5,\n",
       "  'max_elasticnet': 0.8},\n",
       " 'LogisticRegression': {'model_name': 'LogisticRegression',\n",
       "  'is_selected': False,\n",
       "  'parallelism': 2,\n",
       "  'min_iter': 30,\n",
       "  'max_iter': 50,\n",
       "  'min_regparam': 0.5,\n",
       "  'max_regparam': 0.8,\n",
       "  'min_elasticnet': 0.5,\n",
       "  'max_elasticnet': 0.8},\n",
       " 'RidgeRegression': {'model_name': 'RidgeRegression',\n",
       "  'is_selected': False,\n",
       "  'regularization_term': 'Specify values to test',\n",
       "  'min_iter': 30,\n",
       "  'max_iter': 50,\n",
       "  'min_regparam': 0.5,\n",
       "  'max_regparam': 0.8},\n",
       " 'LassoRegression': {'model_name': 'Lasso Regression',\n",
       "  'is_selected': False,\n",
       "  'regularization_term': 'Specify values to test',\n",
       "  'min_iter': 30,\n",
       "  'max_iter': 50,\n",
       "  'min_regparam': 0.5,\n",
       "  'max_regparam': 0.8},\n",
       " 'ElasticNetRegression': {'model_name': 'Lasso Regression',\n",
       "  'is_selected': False,\n",
       "  'regularization_term': 'Specify values to test',\n",
       "  'min_iter': 30,\n",
       "  'max_iter': 50,\n",
       "  'min_regparam': 0.5,\n",
       "  'max_regparam': 0.8,\n",
       "  'min_elasticnet': 0.5,\n",
       "  'max_elasticnet': 0.8},\n",
       " 'xg_boost': {'model_name': 'XG Boost',\n",
       "  'is_selected': False,\n",
       "  'use_gradient_boosted_tree': True,\n",
       "  'dart': True,\n",
       "  'tree_method': '',\n",
       "  'random_state': 0,\n",
       "  'max_num_of_trees': 0,\n",
       "  'early_stopping': True,\n",
       "  'early_stopping_rounds': 2,\n",
       "  'max_depth_of_tree': [56, 89],\n",
       "  'learningRate': [89, 76],\n",
       "  'l1_regularization': [77],\n",
       "  'l2_regularization': [78],\n",
       "  'gamma': [68],\n",
       "  'min_child_weight': [67],\n",
       "  'sub_sample': [67],\n",
       "  'col_sample_by_tree': [67],\n",
       "  'replace_missing_values': False,\n",
       "  'parallelism': 0},\n",
       " 'DecisionTreeRegressor': {'model_name': 'Decision Tree',\n",
       "  'is_selected': False,\n",
       "  'min_depth': 4,\n",
       "  'max_depth': 7,\n",
       "  'use_gini': False,\n",
       "  'use_entropy': True,\n",
       "  'min_samples_per_leaf': [12, 6],\n",
       "  'use_best': True,\n",
       "  'use_random': True},\n",
       " 'DecisionTreeClassifier': {'model_name': 'Decision Tree',\n",
       "  'is_selected': False,\n",
       "  'min_depth': 4,\n",
       "  'max_depth': 7,\n",
       "  'use_gini': False,\n",
       "  'use_entropy': True,\n",
       "  'min_samples_per_leaf': [12, 6],\n",
       "  'use_best': True,\n",
       "  'use_random': True},\n",
       " 'SVM': {'model_name': 'Support Vector Machine',\n",
       "  'is_selected': False,\n",
       "  'linear_kernel': True,\n",
       "  'rep_kernel': True,\n",
       "  'polynomial_kernel': True,\n",
       "  'sigmoid_kernel': True,\n",
       "  'c_value': [566, 79],\n",
       "  'auto': True,\n",
       "  'scale': True,\n",
       "  'custom_gamma_values': True,\n",
       "  'tolerance': 7,\n",
       "  'max_iterations': 7},\n",
       " 'SGD': {'model_name': 'Stochastic Gradient Descent',\n",
       "  'is_selected': False,\n",
       "  'use_logistics': True,\n",
       "  'use_modified_hubber_loss': False,\n",
       "  'max_iterations': False,\n",
       "  'tolerance': 56,\n",
       "  'use_l1_regularization': 'on',\n",
       "  'use_l2_regularization': 'on',\n",
       "  'use_elastic_net_regularization': True,\n",
       "  'alpha_value': [79, 56],\n",
       "  'parallelism': 1},\n",
       " 'KNN': {'model_name': 'KNN',\n",
       "  'is_selected': False,\n",
       "  'k_value': [78],\n",
       "  'distance_weighting': True,\n",
       "  'neighbour_finding_algorithm': 'Automatic',\n",
       "  'random_state': 0,\n",
       "  'p_value': 0},\n",
       " 'extra_random_trees': {'model_name': 'Extra Random Trees',\n",
       "  'is_selected': False,\n",
       "  'num_of_trees': [45, 489],\n",
       "  'feature_sampling_statergy': 'Square root and Logarithm',\n",
       "  'max_depth': [12, 45],\n",
       "  'min_samples_per_leaf': [78, 56],\n",
       "  'parallelism': 3},\n",
       " 'neural_network': {'model_name': 'Neural Network',\n",
       "  'is_selected': False,\n",
       "  'hidden_layer_sizes': [67, 89],\n",
       "  'activation': '',\n",
       "  'alpha_value': 0,\n",
       "  'max_iterations': 0,\n",
       "  'convergence_tolerance': 0,\n",
       "  'early_stopping': True,\n",
       "  'solver': 'ADAM',\n",
       "  'shuffle_data': True,\n",
       "  'initial_learning_rate': 0,\n",
       "  'automatic_batching': True,\n",
       "  'beta_1': 0,\n",
       "  'beta_2': 0,\n",
       "  'epsilon': 0,\n",
       "  'power_t': 0,\n",
       "  'momentum': 0,\n",
       "  'use_nesterov_momentum': False}}"
      ]
     },
     "execution_count": 126,
     "metadata": {},
     "output_type": "execute_result"
    }
   ],
   "source": [
    "models"
   ]
  },
  {
   "cell_type": "code",
   "execution_count": 92,
   "id": "c191e8cd",
   "metadata": {},
   "outputs": [],
   "source": [
    "#read csv file\n",
    "data = pd.read_csv('iris.csv')"
   ]
  },
  {
   "cell_type": "code",
   "execution_count": 93,
   "id": "68a83e67",
   "metadata": {},
   "outputs": [
    {
     "data": {
      "text/plain": [
       "(150, 5)"
      ]
     },
     "execution_count": 93,
     "metadata": {},
     "output_type": "execute_result"
    }
   ],
   "source": [
    "data.shape"
   ]
  },
  {
   "cell_type": "code",
   "execution_count": 94,
   "id": "afd9fc61",
   "metadata": {},
   "outputs": [
    {
     "data": {
      "text/plain": [
       "sepal_length    0\n",
       "sepal_width     0\n",
       "petal_length    0\n",
       "petal_width     0\n",
       "species         0\n",
       "dtype: int64"
      ]
     },
     "execution_count": 94,
     "metadata": {},
     "output_type": "execute_result"
    }
   ],
   "source": [
    "#Checking for null values are present or not\n",
    "data.isnull().sum()"
   ]
  },
  {
   "cell_type": "code",
   "execution_count": 95,
   "id": "ec22fa5d",
   "metadata": {},
   "outputs": [
    {
     "data": {
      "text/plain": [
       "Iris-setosa        50\n",
       "Iris-versicolor    50\n",
       "Iris-virginica     50\n",
       "Name: species, dtype: int64"
      ]
     },
     "execution_count": 95,
     "metadata": {},
     "output_type": "execute_result"
    }
   ],
   "source": [
    "data['species'].value_counts()"
   ]
  },
  {
   "cell_type": "code",
   "execution_count": 96,
   "id": "280643d2",
   "metadata": {},
   "outputs": [
    {
     "data": {
      "text/html": [
       "<div>\n",
       "<style scoped>\n",
       "    .dataframe tbody tr th:only-of-type {\n",
       "        vertical-align: middle;\n",
       "    }\n",
       "\n",
       "    .dataframe tbody tr th {\n",
       "        vertical-align: top;\n",
       "    }\n",
       "\n",
       "    .dataframe thead th {\n",
       "        text-align: right;\n",
       "    }\n",
       "</style>\n",
       "<table border=\"1\" class=\"dataframe\">\n",
       "  <thead>\n",
       "    <tr style=\"text-align: right;\">\n",
       "      <th></th>\n",
       "      <th>sepal_length</th>\n",
       "      <th>sepal_width</th>\n",
       "      <th>petal_length</th>\n",
       "      <th>petal_width</th>\n",
       "    </tr>\n",
       "  </thead>\n",
       "  <tbody>\n",
       "    <tr>\n",
       "      <th>count</th>\n",
       "      <td>150.000000</td>\n",
       "      <td>150.000000</td>\n",
       "      <td>150.000000</td>\n",
       "      <td>150.000000</td>\n",
       "    </tr>\n",
       "    <tr>\n",
       "      <th>mean</th>\n",
       "      <td>5.843333</td>\n",
       "      <td>3.054000</td>\n",
       "      <td>3.758667</td>\n",
       "      <td>1.198667</td>\n",
       "    </tr>\n",
       "    <tr>\n",
       "      <th>std</th>\n",
       "      <td>0.828066</td>\n",
       "      <td>0.433594</td>\n",
       "      <td>1.764420</td>\n",
       "      <td>0.763161</td>\n",
       "    </tr>\n",
       "    <tr>\n",
       "      <th>min</th>\n",
       "      <td>4.300000</td>\n",
       "      <td>2.000000</td>\n",
       "      <td>1.000000</td>\n",
       "      <td>0.100000</td>\n",
       "    </tr>\n",
       "    <tr>\n",
       "      <th>25%</th>\n",
       "      <td>5.100000</td>\n",
       "      <td>2.800000</td>\n",
       "      <td>1.600000</td>\n",
       "      <td>0.300000</td>\n",
       "    </tr>\n",
       "    <tr>\n",
       "      <th>50%</th>\n",
       "      <td>5.800000</td>\n",
       "      <td>3.000000</td>\n",
       "      <td>4.350000</td>\n",
       "      <td>1.300000</td>\n",
       "    </tr>\n",
       "    <tr>\n",
       "      <th>75%</th>\n",
       "      <td>6.400000</td>\n",
       "      <td>3.300000</td>\n",
       "      <td>5.100000</td>\n",
       "      <td>1.800000</td>\n",
       "    </tr>\n",
       "    <tr>\n",
       "      <th>max</th>\n",
       "      <td>7.900000</td>\n",
       "      <td>4.400000</td>\n",
       "      <td>6.900000</td>\n",
       "      <td>2.500000</td>\n",
       "    </tr>\n",
       "  </tbody>\n",
       "</table>\n",
       "</div>"
      ],
      "text/plain": [
       "       sepal_length  sepal_width  petal_length  petal_width\n",
       "count    150.000000   150.000000    150.000000   150.000000\n",
       "mean       5.843333     3.054000      3.758667     1.198667\n",
       "std        0.828066     0.433594      1.764420     0.763161\n",
       "min        4.300000     2.000000      1.000000     0.100000\n",
       "25%        5.100000     2.800000      1.600000     0.300000\n",
       "50%        5.800000     3.000000      4.350000     1.300000\n",
       "75%        6.400000     3.300000      5.100000     1.800000\n",
       "max        7.900000     4.400000      6.900000     2.500000"
      ]
     },
     "execution_count": 96,
     "metadata": {},
     "output_type": "execute_result"
    }
   ],
   "source": [
    "data.describe()"
   ]
  },
  {
   "cell_type": "code",
   "execution_count": 97,
   "id": "fdebe4e8",
   "metadata": {},
   "outputs": [
    {
     "name": "stdout",
     "output_type": "stream",
     "text": [
      "<class 'pandas.core.frame.DataFrame'>\n",
      "RangeIndex: 150 entries, 0 to 149\n",
      "Data columns (total 5 columns):\n",
      " #   Column        Non-Null Count  Dtype  \n",
      "---  ------        --------------  -----  \n",
      " 0   sepal_length  150 non-null    float64\n",
      " 1   sepal_width   150 non-null    float64\n",
      " 2   petal_length  150 non-null    float64\n",
      " 3   petal_width   150 non-null    float64\n",
      " 4   species       150 non-null    object \n",
      "dtypes: float64(4), object(1)\n",
      "memory usage: 6.0+ KB\n"
     ]
    }
   ],
   "source": [
    "data.info()"
   ]
  },
  {
   "cell_type": "code",
   "execution_count": 98,
   "id": "0d1a3f9a",
   "metadata": {},
   "outputs": [],
   "source": [
    "# appplying one hot encoding on the dataset\n",
    "\n",
    "data = pd.get_dummies(data,columns=['species'],drop_first = True)\n",
    " "
   ]
  },
  {
   "cell_type": "code",
   "execution_count": 99,
   "id": "2c048219",
   "metadata": {},
   "outputs": [],
   "source": [
    "X = data.drop(columns = ['petal_width'],axis = 1)\n",
    "Y = data.petal_width"
   ]
  },
  {
   "cell_type": "code",
   "execution_count": 100,
   "id": "f34d8b39",
   "metadata": {},
   "outputs": [],
   "source": [
    "from sklearn.model_selection import train_test_split\n",
    "X_train, X_test, Y_train, Y_test = train_test_split(X,Y, test_size=0.2, random_state=2)\n"
   ]
  },
  {
   "cell_type": "code",
   "execution_count": 101,
   "id": "35d60921",
   "metadata": {},
   "outputs": [
    {
     "name": "stdout",
     "output_type": "stream",
     "text": [
      "Random Forest Regression Training Accuracy:- 0.9548120195404024\n"
     ]
    }
   ],
   "source": [
    "#Using Random Forest Regression\n",
    "from sklearn.ensemble import RandomForestRegressor\n",
    "rfr = RandomForestRegressor(n_estimators = 20 ,max_depth = 20 , min_samples_leaf = 10)\n",
    "rfr.fit(X_train,Y_train)\n",
    "print('Random Forest Regression Training Accuracy:-', rfr.score(X_train, Y_train))   "
   ]
  },
  {
   "cell_type": "code",
   "execution_count": 102,
   "id": "987c4fc9",
   "metadata": {},
   "outputs": [
    {
     "name": "stdout",
     "output_type": "stream",
     "text": [
      "Mean Squared Error for Random_Forest_Regressor :-  0.030596337313052165\n",
      "Root Mean Squared Error Random_Fores_tRegressor :- 0.1749180874382411\n",
      "Mean Absolute Error for Random_Forest_Regressor :-0.13005641414181393\n"
     ]
    }
   ],
   "source": [
    "pred = rfr.predict(X_test)\n",
    "mse = mean_squared_error(Y_test,pred)\n",
    "rmse = mean_squared_error(Y_test,pred,squared=False)\n",
    "mae = mean_absolute_error(Y_test,pred)\n",
    "print(f\"Mean Squared Error for Random_Forest_Regressor :-  {mse}\")\n",
    "print(f\"Root Mean Squared Error Random_Fores_tRegressor :- {rmse}\")\n",
    "print(f\"Mean Absolute Error for Random_Forest_Regressor :-{mae}\")"
   ]
  },
  {
   "cell_type": "code",
   "execution_count": 103,
   "id": "5efe9b87",
   "metadata": {},
   "outputs": [
    {
     "name": "stdout",
     "output_type": "stream",
     "text": [
      "Gradient Boosting Regressor Training Accuracy:- 0.9999243890709075\n"
     ]
    }
   ],
   "source": [
    "#Using Gradient Boosting Regressor\n",
    "from sklearn.ensemble import GradientBoostingRegressor\n",
    "gbtr = GradientBoostingRegressor(n_estimators= 89,max_depth=7)\n",
    "gbtr.fit(X_train,Y_train)\n",
    "print('Gradient Boosting Regressor Training Accuracy:-', gbtr.score(X_train, Y_train))    "
   ]
  },
  {
   "cell_type": "code",
   "execution_count": 104,
   "id": "3f8f0446",
   "metadata": {},
   "outputs": [
    {
     "name": "stdout",
     "output_type": "stream",
     "text": [
      "Mean Squared Error for Gradient_Boosting_Regressor :-  0.048450486859132794\n",
      "Root Mean Squared Error Gradient_Boosting_Regressor :- 0.2201147129547064\n",
      "Mean Absolute Error for Gradient_Boosting_Regressor :- 0.1483631865642442\n"
     ]
    }
   ],
   "source": [
    "pred = gbtr.predict(X_test)\n",
    "mse = mean_squared_error(Y_test,pred)\n",
    "rmse = mean_squared_error(Y_test,pred,squared=False)\n",
    "mae = mean_absolute_error(Y_test,pred)\n",
    "print(f\"Mean Squared Error for Gradient_Boosting_Regressor :-  {mse}\")\n",
    "print(f\"Root Mean Squared Error Gradient_Boosting_Regressor :- {rmse}\")\n",
    "print(f\"Mean Absolute Error for Gradient_Boosting_Regressor :- {mae}\")"
   ]
  },
  {
   "cell_type": "code",
   "execution_count": 105,
   "id": "85d402fe",
   "metadata": {},
   "outputs": [
    {
     "name": "stdout",
     "output_type": "stream",
     "text": [
      "Linear Regression Training Accuracy: 0.9537415449043009\n"
     ]
    }
   ],
   "source": [
    "#Using Linear Regression\n",
    "from sklearn.linear_model import LinearRegression\n",
    "lr = LinearRegression()\n",
    "lr.fit(X_train,Y_train)\n",
    "print('Linear Regression Training Accuracy:', lr.score(X_train, Y_train))"
   ]
  },
  {
   "cell_type": "code",
   "execution_count": 106,
   "id": "3cfa32f6",
   "metadata": {},
   "outputs": [
    {
     "name": "stdout",
     "output_type": "stream",
     "text": [
      "Mean Squared Error for Linear_Regression :-  0.02940100195363561\n",
      "Root Mean Squared Error Linear_Regression :- 0.17146720372606422\n",
      "Mean Absolute Error for Linear_Regression :- 0.12488333462996447\n"
     ]
    }
   ],
   "source": [
    "pred = lr.predict(X_test)\n",
    "mse = mean_squared_error(Y_test,pred)\n",
    "rmse = mean_squared_error(Y_test,pred,squared=False)\n",
    "mae = mean_absolute_error(Y_test,pred)\n",
    "print(f\"Mean Squared Error for Linear_Regression :-  {mse}\")\n",
    "print(f\"Root Mean Squared Error Linear_Regression :- {rmse}\")\n",
    "print(f\"Mean Absolute Error for Linear_Regression :- {mae}\")"
   ]
  },
  {
   "cell_type": "code",
   "execution_count": 107,
   "id": "d474ba3c",
   "metadata": {},
   "outputs": [
    {
     "name": "stdout",
     "output_type": "stream",
     "text": [
      "Ridge Regression Training Accuracy:- 0.9485347906986834\n"
     ]
    }
   ],
   "source": [
    "#Using Ridge Regression\n",
    "from sklearn.linear_model import Ridge\n",
    "rdr = Ridge(max_iter = 50)\n",
    "rdr.fit(X_train,Y_train)\n",
    "print('Ridge Regression Training Accuracy:-', rdr.score(X_train, Y_train))"
   ]
  },
  {
   "cell_type": "code",
   "execution_count": 108,
   "id": "797362cd",
   "metadata": {},
   "outputs": [
    {
     "name": "stdout",
     "output_type": "stream",
     "text": [
      "Mean Squared Error for Ridge Regression :- 0.0297769418921317\n",
      "Root Mean Squared Error Ridge Regression :- 0.1725599660759462\n",
      "Mean Absolute Error for Ridge Regression :- 0.12599328084644806\n"
     ]
    }
   ],
   "source": [
    "pred = rdr.predict(X_test)\n",
    "mse = mean_squared_error(Y_test,pred)\n",
    "rmse = mean_squared_error(Y_test,pred,squared=False)\n",
    "mae = mean_absolute_error(Y_test,pred)\n",
    "print(f\"Mean Squared Error for Ridge Regression :- {mse}\")\n",
    "print(f\"Root Mean Squared Error Ridge Regression :- {rmse}\")\n",
    "print(f\"Mean Absolute Error for Ridge Regression :- {mae}\")"
   ]
  },
  {
   "cell_type": "code",
   "execution_count": 109,
   "id": "54b08db4",
   "metadata": {},
   "outputs": [
    {
     "name": "stdout",
     "output_type": "stream",
     "text": [
      "Lasso Regression Training Accuracy:- 0.33165888295129764\n"
     ]
    }
   ],
   "source": [
    "#Using Lasso Regression\n",
    "from sklearn.linear_model import Lasso\n",
    "lsr = Lasso(max_iter = 50)\n",
    "lsr.fit(X_train,Y_train)\n",
    "print('Lasso Regression Training Accuracy:-', lsr.score(X_train, Y_train))"
   ]
  },
  {
   "cell_type": "code",
   "execution_count": 110,
   "id": "4e68c670",
   "metadata": {},
   "outputs": [
    {
     "name": "stdout",
     "output_type": "stream",
     "text": [
      "Mean Squared Error for Lasso Regression :- 0.43390883616450243\n",
      "Root Mean Squared Error Lasso Regression :- 0.6587175693455447\n",
      "Mean Absolute Error for Lasso Regression :-0.5706362531691952\n"
     ]
    }
   ],
   "source": [
    "pred = lsr.predict(X_test)\n",
    "mse = mean_squared_error(Y_test,pred)\n",
    "rmse = mean_squared_error(Y_test,pred,squared=False)\n",
    "mae = mean_absolute_error(Y_test,pred)\n",
    "print(f\"Mean Squared Error for Lasso Regression :- {mse}\")\n",
    "print(f\"Root Mean Squared Error Lasso Regression :- {rmse}\")\n",
    "print(f\"Mean Absolute Error for Lasso Regression :-{mae}\")"
   ]
  },
  {
   "cell_type": "code",
   "execution_count": 111,
   "id": "cdf38c21",
   "metadata": {},
   "outputs": [
    {
     "name": "stdout",
     "output_type": "stream",
     "text": [
      "Elastic Net Regression Training Accuracy:- 0.7051834513099366\n"
     ]
    }
   ],
   "source": [
    "#Using Elastic Net Regression\n",
    "from sklearn.linear_model import ElasticNet\n",
    "enr = ElasticNet(max_iter = 50)\n",
    "enr.fit(X_train,Y_train)\n",
    "print('Elastic Net Regression Training Accuracy:-', enr.score(X_train, Y_train))"
   ]
  },
  {
   "cell_type": "code",
   "execution_count": 112,
   "id": "eabb5b9c",
   "metadata": {},
   "outputs": [
    {
     "name": "stdout",
     "output_type": "stream",
     "text": [
      "Mean Squared Error for Elastic Net Regression :- 0.18623902910267418\n",
      "Root Mean Squared Error Elastic Net Regression :- 0.4315542018132533\n",
      "Mean Absolute Error for Elastic Net Regression :-0.3624330538996461\n"
     ]
    }
   ],
   "source": [
    "pred = enr.predict(X_test)\n",
    "mse = mean_squared_error(Y_test,pred)\n",
    "rmse = mean_squared_error(Y_test,pred,squared=False)\n",
    "mae = mean_absolute_error(Y_test,pred)\n",
    "print(f\"Mean Squared Error for Elastic Net Regression :- {mse}\")\n",
    "print(f\"Root Mean Squared Error Elastic Net Regression :- {rmse}\")\n",
    "print(f\"Mean Absolute Error for Elastic Net Regression :-{mae}\")"
   ]
  },
  {
   "cell_type": "code",
   "execution_count": 113,
   "id": "2c72d686",
   "metadata": {},
   "outputs": [
    {
     "name": "stdout",
     "output_type": "stream",
     "text": [
      "XGBoost Regression Training Accuracy:- 0.9999094687064979\n"
     ]
    }
   ],
   "source": [
    "#Using Xgboost Regression\n",
    "import xgboost as xg\n",
    "xgb = xg.XGBRegressor()\n",
    "xgb.fit(X_train,Y_train)\n",
    "print('XGBoost Regression Training Accuracy:-', xgb.score(X_train, Y_train))"
   ]
  },
  {
   "cell_type": "code",
   "execution_count": 114,
   "id": "033e96bd",
   "metadata": {},
   "outputs": [
    {
     "name": "stdout",
     "output_type": "stream",
     "text": [
      "Mean Squared Error for Xgboost_Regression :- 0.04638244483512975\n",
      "Root Mean Squared Error Xgboost_Regression :- 0.2153658395269077\n",
      "Mean Absolute Error for Xgboost_Regression :-0.14557498544454575\n"
     ]
    }
   ],
   "source": [
    "pred = xgb.predict(X_test)\n",
    "mse = mean_squared_error(Y_test,pred)\n",
    "rmse = mean_squared_error(Y_test,pred,squared=False)\n",
    "mae = mean_absolute_error(Y_test,pred)\n",
    "print(f\"Mean Squared Error for Xgboost_Regression :- {mse}\")\n",
    "print(f\"Root Mean Squared Error Xgboost_Regression :- {rmse}\")\n",
    "print(f\"Mean Absolute Error for Xgboost_Regression :-{mae}\")"
   ]
  },
  {
   "cell_type": "code",
   "execution_count": 115,
   "id": "ca7289e9",
   "metadata": {},
   "outputs": [
    {
     "name": "stdout",
     "output_type": "stream",
     "text": [
      "Decision Tree Regression Training Accuracy:- 0.9489157167973766\n"
     ]
    }
   ],
   "source": [
    "#Using Decision Tree regression\n",
    "from sklearn.tree import DecisionTreeRegressor\n",
    "dtr = DecisionTreeRegressor(min_samples_leaf = 12)\n",
    "dtr.fit(X_train,Y_train)\n",
    "print('Decision Tree Regression Training Accuracy:-', dtr.score(X_train, Y_train))"
   ]
  },
  {
   "cell_type": "code",
   "execution_count": 116,
   "id": "2ce95289",
   "metadata": {},
   "outputs": [
    {
     "name": "stdout",
     "output_type": "stream",
     "text": [
      "Mean Squared Error for  Decision_Tree_Regressor :- 0.033542502572016436\n",
      "Root Mean Squared Error  Decision_Tree_Regressor :- 0.18314612355170512\n",
      "Mean Absolute Error for  Decision_Tree_Regressor :- 0.1338425925925926\n"
     ]
    }
   ],
   "source": [
    "pred = dtr.predict(X_test)\n",
    "mse = mean_squared_error(Y_test,pred)\n",
    "rmse = mean_squared_error(Y_test,pred,squared=False)\n",
    "mae = mean_absolute_error(Y_test,pred)\n",
    "print(f\"Mean Squared Error for  Decision_Tree_Regressor :- {mse}\")\n",
    "print(f\"Root Mean Squared Error  Decision_Tree_Regressor :- {rmse}\")\n",
    "print(f\"Mean Absolute Error for  Decision_Tree_Regressor :- {mae}\")"
   ]
  },
  {
   "cell_type": "code",
   "execution_count": 117,
   "id": "1368ba19",
   "metadata": {},
   "outputs": [
    {
     "name": "stdout",
     "output_type": "stream",
     "text": [
      "SVM Regression Training Accuracy:- 0.8530640483214396\n"
     ]
    },
    {
     "name": "stderr",
     "output_type": "stream",
     "text": [
      "C:\\Users\\anand\\anaconda3\\lib\\site-packages\\sklearn\\svm\\_base.py:255: ConvergenceWarning: Solver terminated early (max_iter=7).  Consider pre-processing your data with StandardScaler or MinMaxScaler.\n",
      "  warnings.warn('Solver terminated early (max_iter=%i).'\n"
     ]
    }
   ],
   "source": [
    "#Using SVR Regression\n",
    "from sklearn.svm import SVR\n",
    "svr = SVR(kernel = 'rbf',gamma = 7,max_iter = 7)\n",
    "svr.fit(X_train,Y_train)\n",
    "print('SVM Regression Training Accuracy:-', svr.score(X_train, Y_train))"
   ]
  },
  {
   "cell_type": "code",
   "execution_count": 118,
   "id": "616f2911",
   "metadata": {},
   "outputs": [
    {
     "name": "stdout",
     "output_type": "stream",
     "text": [
      "Mean Squared Error for SVR Regression :- 0.15438432323287438\n",
      "Root Mean Squared Error SVR Regression :- 0.3929177054204536\n",
      "Mean Absolute Error for SVR Regressionr :- 0.3020351226837967\n"
     ]
    }
   ],
   "source": [
    "pred = svr.predict(X_test)\n",
    "mse = mean_squared_error(Y_test,pred)\n",
    "rmse = mean_squared_error(Y_test,pred,squared=False)\n",
    "mae = mean_absolute_error(Y_test,pred)\n",
    "print(f\"Mean Squared Error for SVR Regression :- {mse}\")\n",
    "print(f\"Root Mean Squared Error SVR Regression :- {rmse}\")\n",
    "print(f\"Mean Absolute Error for SVR Regressionr :- {mae}\")"
   ]
  }
 ],
 "metadata": {
  "kernelspec": {
   "display_name": "Python 3 (ipykernel)",
   "language": "python",
   "name": "python3"
  },
  "language_info": {
   "codemirror_mode": {
    "name": "ipython",
    "version": 3
   },
   "file_extension": ".py",
   "mimetype": "text/x-python",
   "name": "python",
   "nbconvert_exporter": "python",
   "pygments_lexer": "ipython3",
   "version": "3.9.7"
  }
 },
 "nbformat": 4,
 "nbformat_minor": 5
}
